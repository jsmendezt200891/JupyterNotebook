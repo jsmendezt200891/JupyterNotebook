{
  "nbformat": 4,
  "nbformat_minor": 0,
  "metadata": {
    "colab": {
      "provenance": []
    },
    "kernelspec": {
      "name": "python3",
      "display_name": "Python 3"
    },
    "language_info": {
      "name": "python"
    }
  },
  "cells": [
    {
      "cell_type": "markdown",
      "source": [
        "# Data Science Tools and Ecosystem"
      ],
      "metadata": {
        "id": "6uKB0B-pc_3Q"
      }
    },
    {
      "cell_type": "markdown",
      "source": [
        "In this notebook, Data Science Tools and Ecosystem are summarized."
      ],
      "metadata": {
        "id": "-NdZrc7aewFK"
      }
    },
    {
      "cell_type": "markdown",
      "source": [
        "Some of the popular languages that Data Scientists use are:\n",
        "\n",
        "\n",
        "\n",
        "*   Phyton\n",
        "*   RR\n",
        "*   SQL\n",
        "*   Java\n",
        "\n",
        "\n",
        "\n"
      ],
      "metadata": {
        "id": "4x-Ey7_UfMBS"
      }
    },
    {
      "cell_type": "markdown",
      "source": [
        "Some of the commonly used libraries used by Data Scientists include:\n",
        "\n",
        "\n",
        "*   Pandas\n",
        "*   NUMPY\n",
        "*   MATPLOTLIB\n",
        "*   SEABORN\n",
        "\n"
      ],
      "metadata": {
        "id": "YQYi1nADfmqM"
      }
    },
    {
      "cell_type": "markdown",
      "source": [
        "\n",
        "| Data Science Tools |\n",
        "|---|\n",
        "| Visual Studio |\n",
        "|Jupyter Lab|\n",
        "|Spyder|"
      ],
      "metadata": {
        "id": "Ux6uoT8ZguiN"
      }
    },
    {
      "cell_type": "markdown",
      "source": [
        "### Below are a few examples of evaluating arithmetic expressions in Python"
      ],
      "metadata": {
        "id": "1J2_dj1xibe4"
      }
    },
    {
      "cell_type": "code",
      "source": [
        "#This a simple arithmetic expression to mutiply then add integers\n",
        "(3*4)+5"
      ],
      "metadata": {
        "colab": {
          "base_uri": "https://localhost:8080/"
        },
        "id": "pifiCdhRi-Hk",
        "outputId": "b32f1bad-527f-4b78-a668-adc9824993de"
      },
      "execution_count": null,
      "outputs": [
        {
          "output_type": "execute_result",
          "data": {
            "text/plain": [
              "17"
            ]
          },
          "metadata": {},
          "execution_count": 2
        }
      ]
    },
    {
      "cell_type": "code",
      "source": [
        "#This will convert 200 minutes to hours by diving by 60\n",
        "200/60"
      ],
      "metadata": {
        "colab": {
          "base_uri": "https://localhost:8080/"
        },
        "id": "q6_NTYiwjN39",
        "outputId": "ca3d905a-4a8c-411b-ddd0-aa2f5e7015f6"
      },
      "execution_count": null,
      "outputs": [
        {
          "output_type": "execute_result",
          "data": {
            "text/plain": [
              "3.3333333333333335"
            ]
          },
          "metadata": {},
          "execution_count": 3
        }
      ]
    },
    {
      "cell_type": "markdown",
      "source": [
        "#### **Objectives:**\n",
        "\n",
        "\n",
        "\n",
        "*   List popular languages for Data Science\n",
        "*   Running code and text in notebook\n",
        "*   Perform arithmetic operations\n",
        "*   Remember concepts seen in other modules\n"
      ],
      "metadata": {
        "id": "XxMmQHf1jok_"
      }
    },
    {
      "cell_type": "markdown",
      "source": [
        "## Author\n",
        "Juan Sebastian Mendez Tierradentro\n",
        "\n"
      ],
      "metadata": {
        "id": "uMe4ebQ6ke6N"
      }
    }
  ]
}